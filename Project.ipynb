{
  "nbformat": 4,
  "nbformat_minor": 0,
  "metadata": {
    "colab": {
      "name": "Project",
      "provenance": [],
      "collapsed_sections": []
    },
    "kernelspec": {
      "name": "python3",
      "display_name": "Python 3"
    }
  },
  "cells": [
    {
      "cell_type": "code",
      "metadata": {
        "id": "-GKT6LRl4S8W",
        "outputId": "12953799-ba64-4a2b-fcf0-cac0749cd8d7",
        "colab": {
          "base_uri": "https://localhost:8080/"
        }
      },
      "source": [
        "%%bash\n",
        "# Do not change or modify this file\n",
        "# Need to install pyspark\n",
        "# if pyspark is already installed, will print a message indicating pyspark already isntalled\n",
        "pip install pyspark"
      ],
      "execution_count": null,
      "outputs": [
        {
          "output_type": "stream",
          "text": [
            "Requirement already satisfied: pyspark in /usr/local/lib/python3.6/dist-packages (3.0.1)\n",
            "Requirement already satisfied: py4j==0.10.9 in /usr/local/lib/python3.6/dist-packages (from pyspark) (0.10.9)\n"
          ],
          "name": "stdout"
        }
      ]
    },
    {
      "cell_type": "code",
      "metadata": {
        "id": "tdi9LtDb4V3W"
      },
      "source": [
        "from pyspark.sql import SparkSession\n",
        "from pyspark.sql import SQLContext\n",
        "\n",
        "MAX_MEMORY = \"12g\"\n",
        "\n",
        "spark = SparkSession \\\n",
        "  .builder \\\n",
        "  .master(\"local[*]\")\\\n",
        "  .config(\"spark.memory.fraction\", 0.8) \\\n",
        "  .config(\"spark.executor.memory\", MAX_MEMORY) \\\n",
        "  .config(\"spark.driver.memory\", MAX_MEMORY)\\\n",
        "  .config(\"spark.memory.offHeap.enabled\",'true')\\\n",
        "  .config(\"spark.memory.offHeap.size\",MAX_MEMORY)\\\n",
        "  .getOrCreate()\n",
        "\n",
        "sc = spark.sparkContext"
      ],
      "execution_count": null,
      "outputs": []
    },
    {
      "cell_type": "code",
      "metadata": {
        "id": "cmIOhFlY4Zjh"
      },
      "source": [
        "from __future__ import division\n",
        "from pyspark.sql import SparkSession\n",
        "from pyspark.ml import clustering\n",
        "from pyspark.ml import feature, regression, evaluation, Pipeline\n",
        "from pyspark.sql import functions as fn, Row\n",
        "import matplotlib.pyplot as plt\n",
        "import glob\n",
        "import subprocess\n",
        "import numpy as np\n",
        "import pandas as pd\n",
        "import os\n",
        "from pyspark.sql import SparkSession\n",
        "from pyspark.sql import SQLContext\n",
        "from pyspark.ml import feature\n",
        "from pyspark.ml import classification\n",
        "from pyspark.sql import functions as fn\n",
        "from pyspark.ml import Pipeline\n",
        "from pyspark.ml.evaluation import BinaryClassificationEvaluator, \\\n",
        "    MulticlassClassificationEvaluator, \\\n",
        "    RegressionEvaluator\n",
        "from pyspark.ml.tuning import CrossValidator, ParamGridBuilder\n",
        "import matplotlib.pyplot as plt\n",
        "import seaborn as sns\n",
        "import pandas as pd\n",
        "spark = SparkSession.builder.getOrCreate()\n",
        "sc = spark.sparkContext\n",
        "sqlContext = SQLContext(sc)\n",
        "import os"
      ],
      "execution_count": null,
      "outputs": []
    },
    {
      "cell_type": "code",
      "metadata": {
        "id": "fMyQIm_j6Bgi"
      },
      "source": [
        "train = spark.read.format(\"csv\").option(\"header\", \"true\").load(\"train.csv\")\n",
        "test = spark.read.format(\"csv\").option(\"header\", \"true\").load(\"test.csv\")"
      ],
      "execution_count": null,
      "outputs": []
    },
    {
      "cell_type": "code",
      "metadata": {
        "id": "R1w3QSpL6RtZ",
        "outputId": "50276072-9f36-4519-d2d3-8b64f3173dc7",
        "colab": {
          "base_uri": "https://localhost:8080/"
        }
      },
      "source": [
        "train.show()"
      ],
      "execution_count": null,
      "outputs": [
        {
          "output_type": "stream",
          "text": [
            "+---+------+---+---------------+-----------+------------------+-----------+--------------+--------------+--------------------+-------+--------+\n",
            "| id|Gender|Age|Driving_License|Region_Code|Previously_Insured|Vehicle_Age|Vehicle_Damage|Annual_Premium|Policy_Sales_Channel|Vintage|Response|\n",
            "+---+------+---+---------------+-----------+------------------+-----------+--------------+--------------+--------------------+-------+--------+\n",
            "|  1|  Male| 44|              1|       28.0|                 0|  > 2 Years|           Yes|       40454.0|                26.0|    217|       1|\n",
            "|  2|  Male| 76|              1|        3.0|                 0|   1-2 Year|            No|       33536.0|                26.0|    183|       0|\n",
            "|  3|  Male| 47|              1|       28.0|                 0|  > 2 Years|           Yes|       38294.0|                26.0|     27|       1|\n",
            "|  4|  Male| 21|              1|       11.0|                 1|   < 1 Year|            No|       28619.0|               152.0|    203|       0|\n",
            "|  5|Female| 29|              1|       41.0|                 1|   < 1 Year|            No|       27496.0|               152.0|     39|       0|\n",
            "|  6|Female| 24|              1|       33.0|                 0|   < 1 Year|           Yes|        2630.0|               160.0|    176|       0|\n",
            "|  7|  Male| 23|              1|       11.0|                 0|   < 1 Year|           Yes|       23367.0|               152.0|    249|       0|\n",
            "|  8|Female| 56|              1|       28.0|                 0|   1-2 Year|           Yes|       32031.0|                26.0|     72|       1|\n",
            "|  9|Female| 24|              1|        3.0|                 1|   < 1 Year|            No|       27619.0|               152.0|     28|       0|\n",
            "| 10|Female| 32|              1|        6.0|                 1|   < 1 Year|            No|       28771.0|               152.0|     80|       0|\n",
            "| 11|Female| 47|              1|       35.0|                 0|   1-2 Year|           Yes|       47576.0|               124.0|     46|       1|\n",
            "| 12|Female| 24|              1|       50.0|                 1|   < 1 Year|            No|       48699.0|               152.0|    289|       0|\n",
            "| 13|Female| 41|              1|       15.0|                 1|   1-2 Year|            No|       31409.0|                14.0|    221|       0|\n",
            "| 14|  Male| 76|              1|       28.0|                 0|   1-2 Year|           Yes|       36770.0|                13.0|     15|       0|\n",
            "| 15|  Male| 71|              1|       28.0|                 1|   1-2 Year|            No|       46818.0|                30.0|     58|       0|\n",
            "| 16|  Male| 37|              1|        6.0|                 0|   1-2 Year|           Yes|        2630.0|               156.0|    147|       1|\n",
            "| 17|Female| 25|              1|       45.0|                 0|   < 1 Year|           Yes|       26218.0|               160.0|    256|       0|\n",
            "| 18|Female| 25|              1|       35.0|                 1|   < 1 Year|            No|       46622.0|               152.0|    299|       0|\n",
            "| 19|  Male| 42|              1|       28.0|                 0|   1-2 Year|           Yes|       33667.0|               124.0|    158|       0|\n",
            "| 20|Female| 60|              1|       33.0|                 0|   1-2 Year|           Yes|       32363.0|               124.0|    102|       1|\n",
            "+---+------+---+---------------+-----------+------------------+-----------+--------------+--------------+--------------------+-------+--------+\n",
            "only showing top 20 rows\n",
            "\n"
          ],
          "name": "stdout"
        }
      ]
    },
    {
      "cell_type": "code",
      "metadata": {
        "id": "eYOzysbs6evi"
      },
      "source": [
        "train = train.drop('id')\n",
        "test = test.drop('id')"
      ],
      "execution_count": null,
      "outputs": []
    },
    {
      "cell_type": "code",
      "metadata": {
        "id": "UloxM2Gm6odu",
        "outputId": "aed5d51f-acca-4e56-fbf4-ed7234c77e7d",
        "colab": {
          "base_uri": "https://localhost:8080/"
        }
      },
      "source": [
        "train.printSchema()"
      ],
      "execution_count": null,
      "outputs": [
        {
          "output_type": "stream",
          "text": [
            "root\n",
            " |-- Gender: string (nullable = true)\n",
            " |-- Age: string (nullable = true)\n",
            " |-- Driving_License: string (nullable = true)\n",
            " |-- Region_Code: string (nullable = true)\n",
            " |-- Previously_Insured: string (nullable = true)\n",
            " |-- Vehicle_Age: string (nullable = true)\n",
            " |-- Vehicle_Damage: string (nullable = true)\n",
            " |-- Annual_Premium: string (nullable = true)\n",
            " |-- Policy_Sales_Channel: string (nullable = true)\n",
            " |-- Vintage: string (nullable = true)\n",
            " |-- Response: string (nullable = true)\n",
            "\n"
          ],
          "name": "stdout"
        }
      ]
    },
    {
      "cell_type": "code",
      "metadata": {
        "id": "242nRrLq8wBV"
      },
      "source": [
        "train = train.withColumn(\"AgeTemp\", train[\"Age\"].cast(\"double\")).drop(\"Age\").withColumnRenamed(\"AgeTemp\", \"Age\")\n",
        "train = train.withColumn(\"DrivingTemp\", train[\"Driving_License\"].cast(\"double\")).drop(\"Driving_License\").withColumnRenamed(\"DrivingTemp\", \"Driving_License\")\n",
        "train = train.withColumn(\"Previously_InsuredTemp\", train[\"Previously_Insured\"].cast(\"double\")).drop(\"Previously_Insured\").withColumnRenamed(\"Previously_InsuredTemp\", \"Previously_Insured\")\n",
        "train = train.withColumn(\"Annual_PremiumTemp\", train[\"Annual_Premium\"].cast(\"double\")).drop(\"Annual_Premium\").withColumnRenamed(\"Annual_PremiumTemp\", \"Annual_Premium\")\n",
        "train = train.withColumn(\"Policy_Sales_ChannelTemp\", train[\"Policy_Sales_Channel\"].cast(\"double\")).drop(\"Policy_Sales_Channel\").withColumnRenamed(\"Policy_Sales_ChannelTemp\", \"Policy_Sales_Channel\")\n",
        "train = train.withColumn(\"VintageTemp\", train[\"Vintage\"].cast(\"double\")).drop(\"Vintage\").withColumnRenamed(\"VintageTemp\", \"Vintage\")\n",
        "train = train.withColumn(\"ResponseTemp\", train[\"Response\"].cast(\"double\")).drop(\"Response\").withColumnRenamed(\"ResponseTemp\", \"Response\")\n"
      ],
      "execution_count": null,
      "outputs": []
    },
    {
      "cell_type": "code",
      "metadata": {
        "id": "FGIZxYj-JpZL"
      },
      "source": [
        "train = train.withColumn(\"Region_CodeTemp\", train[\"Region_Code\"].cast(\"double\")).drop(\"Region_Code\").withColumnRenamed(\"Region_CodeTemp\", \"Region_Code\")"
      ],
      "execution_count": null,
      "outputs": []
    },
    {
      "cell_type": "code",
      "metadata": {
        "id": "esaliRqbJ6wL"
      },
      "source": [
        "train = train.withColumn(\"ResponseTemp\", train[\"Response\"].cast(\"double\")).drop(\"Response\").withColumnRenamed(\"ResponseTemp\", \"Response\")"
      ],
      "execution_count": null,
      "outputs": []
    },
    {
      "cell_type": "code",
      "metadata": {
        "id": "9IZxMxUr-7Ny",
        "outputId": "42491115-e6ea-4aa5-fff8-fe1a76099148",
        "colab": {
          "base_uri": "https://localhost:8080/"
        }
      },
      "source": [
        "train.printSchema()"
      ],
      "execution_count": null,
      "outputs": [
        {
          "output_type": "stream",
          "text": [
            "root\n",
            " |-- Gender: string (nullable = true)\n",
            " |-- Vehicle_Age: string (nullable = true)\n",
            " |-- Vehicle_Damage: string (nullable = true)\n",
            " |-- Age: double (nullable = true)\n",
            " |-- Driving_License: double (nullable = true)\n",
            " |-- Previously_Insured: double (nullable = true)\n",
            " |-- Annual_Premium: double (nullable = true)\n",
            " |-- Policy_Sales_Channel: double (nullable = true)\n",
            " |-- Vintage: double (nullable = true)\n",
            " |-- Region_Code: double (nullable = true)\n",
            " |-- Response: double (nullable = true)\n",
            "\n"
          ],
          "name": "stdout"
        }
      ]
    },
    {
      "cell_type": "code",
      "metadata": {
        "id": "IwoV9-w7_AHS",
        "outputId": "d33a6ded-0568-49da-ada5-17663fb4b0e3",
        "colab": {
          "base_uri": "https://localhost:8080/"
        }
      },
      "source": [
        "train.select('Region_Code').distinct().show()\n",
        "train.select('Vehicle_Age').distinct().show()"
      ],
      "execution_count": null,
      "outputs": [
        {
          "output_type": "stream",
          "text": [
            "+-----------+\n",
            "|Region_Code|\n",
            "+-----------+\n",
            "|        8.0|\n",
            "|        0.0|\n",
            "|        7.0|\n",
            "|       49.0|\n",
            "|       29.0|\n",
            "|       47.0|\n",
            "|       42.0|\n",
            "|       44.0|\n",
            "|       35.0|\n",
            "|       18.0|\n",
            "|       39.0|\n",
            "|        1.0|\n",
            "|       37.0|\n",
            "|       34.0|\n",
            "|       25.0|\n",
            "|       36.0|\n",
            "|       41.0|\n",
            "|        4.0|\n",
            "|       23.0|\n",
            "|       50.0|\n",
            "+-----------+\n",
            "only showing top 20 rows\n",
            "\n",
            "+-----------+\n",
            "|Vehicle_Age|\n",
            "+-----------+\n",
            "|  > 2 Years|\n",
            "|   < 1 Year|\n",
            "|   1-2 Year|\n",
            "+-----------+\n",
            "\n"
          ],
          "name": "stdout"
        }
      ]
    },
    {
      "cell_type": "code",
      "metadata": {
        "id": "YopByuxuFtdm"
      },
      "source": [
        "hist = train.crosstab('Policy_Sales_Channel', 'Response')\n",
        "hist = hist.withColumn(\"Policy_Sales_ChannelTemp\", hist[\"Policy_Sales_Channel_Response\"].cast(\"double\")).drop(\"olicy_Sales_Channel_Response\").withColumnRenamed(\"olicy_Sales_Channel_ResponseTemp\", \"olicy_Sales_Channel_Response\")\n",
        "hist = hist.withColumn(\"0.0Temp\", hist['`0.0`'].cast(\"double\")).drop('`0.0`').withColumnRenamed(\"0.0Temp\", '`0.0`')\n",
        "hist = hist.withColumn(\"1.0Temp\", hist['`1.0`'].cast(\"double\")).drop('`1.0`').withColumnRenamed(\"1.0Temp\", '`1.0`')"
      ],
      "execution_count": null,
      "outputs": []
    },
    {
      "cell_type": "code",
      "metadata": {
        "id": "I5ZgsA7aQ_h5"
      },
      "source": [
        "hist = train.crosstab('Policy_Sales_Channel', 'Response')"
      ],
      "execution_count": null,
      "outputs": []
    },
    {
      "cell_type": "code",
      "metadata": {
        "id": "ExQ-kqZyMoXa"
      },
      "source": [
        "hist = hist.toPandas()"
      ],
      "execution_count": null,
      "outputs": []
    },
    {
      "cell_type": "code",
      "metadata": {
        "id": "R7Gv8vmTSNOs",
        "outputId": "c5b0975c-65d5-4913-b75e-6f655476786e",
        "colab": {
          "base_uri": "https://localhost:8080/",
          "height": 419
        }
      },
      "source": [
        "display(hist)"
      ],
      "execution_count": null,
      "outputs": [
        {
          "output_type": "display_data",
          "data": {
            "text/html": [
              "<div>\n",
              "<style scoped>\n",
              "    .dataframe tbody tr th:only-of-type {\n",
              "        vertical-align: middle;\n",
              "    }\n",
              "\n",
              "    .dataframe tbody tr th {\n",
              "        vertical-align: top;\n",
              "    }\n",
              "\n",
              "    .dataframe thead th {\n",
              "        text-align: right;\n",
              "    }\n",
              "</style>\n",
              "<table border=\"1\" class=\"dataframe\">\n",
              "  <thead>\n",
              "    <tr style=\"text-align: right;\">\n",
              "      <th></th>\n",
              "      <th>Policy_Sales_Channel_Response</th>\n",
              "      <th>0.0</th>\n",
              "      <th>1.0</th>\n",
              "    </tr>\n",
              "  </thead>\n",
              "  <tbody>\n",
              "    <tr>\n",
              "      <th>0</th>\n",
              "      <td>69.0</td>\n",
              "      <td>5</td>\n",
              "      <td>1</td>\n",
              "    </tr>\n",
              "    <tr>\n",
              "      <th>1</th>\n",
              "      <td>138.0</td>\n",
              "      <td>112</td>\n",
              "      <td>12</td>\n",
              "    </tr>\n",
              "    <tr>\n",
              "      <th>2</th>\n",
              "      <td>101.0</td>\n",
              "      <td>5</td>\n",
              "      <td>2</td>\n",
              "    </tr>\n",
              "    <tr>\n",
              "      <th>3</th>\n",
              "      <td>88.0</td>\n",
              "      <td>32</td>\n",
              "      <td>2</td>\n",
              "    </tr>\n",
              "    <tr>\n",
              "      <th>4</th>\n",
              "      <td>115.0</td>\n",
              "      <td>4</td>\n",
              "      <td>0</td>\n",
              "    </tr>\n",
              "    <tr>\n",
              "      <th>...</th>\n",
              "      <td>...</td>\n",
              "      <td>...</td>\n",
              "      <td>...</td>\n",
              "    </tr>\n",
              "    <tr>\n",
              "      <th>150</th>\n",
              "      <td>90.0</td>\n",
              "      <td>19</td>\n",
              "      <td>7</td>\n",
              "    </tr>\n",
              "    <tr>\n",
              "      <th>151</th>\n",
              "      <td>111.0</td>\n",
              "      <td>59</td>\n",
              "      <td>9</td>\n",
              "    </tr>\n",
              "    <tr>\n",
              "      <th>152</th>\n",
              "      <td>122.0</td>\n",
              "      <td>8210</td>\n",
              "      <td>1720</td>\n",
              "    </tr>\n",
              "    <tr>\n",
              "      <th>153</th>\n",
              "      <td>83.0</td>\n",
              "      <td>4</td>\n",
              "      <td>0</td>\n",
              "    </tr>\n",
              "    <tr>\n",
              "      <th>154</th>\n",
              "      <td>100.0</td>\n",
              "      <td>6</td>\n",
              "      <td>2</td>\n",
              "    </tr>\n",
              "  </tbody>\n",
              "</table>\n",
              "<p>155 rows × 3 columns</p>\n",
              "</div>"
            ],
            "text/plain": [
              "    Policy_Sales_Channel_Response   0.0   1.0\n",
              "0                            69.0     5     1\n",
              "1                           138.0   112    12\n",
              "2                           101.0     5     2\n",
              "3                            88.0    32     2\n",
              "4                           115.0     4     0\n",
              "..                            ...   ...   ...\n",
              "150                          90.0    19     7\n",
              "151                         111.0    59     9\n",
              "152                         122.0  8210  1720\n",
              "153                          83.0     4     0\n",
              "154                         100.0     6     2\n",
              "\n",
              "[155 rows x 3 columns]"
            ]
          },
          "metadata": {
            "tags": []
          }
        }
      ]
    },
    {
      "cell_type": "code",
      "metadata": {
        "id": "Y5YnatuXIRJm",
        "outputId": "e4906a3a-06c1-4463-f70a-50ec86720c00",
        "colab": {
          "base_uri": "https://localhost:8080/",
          "height": 351
        }
      },
      "source": [
        "width = 0.5      \n",
        "plt.bar(hist.Policy_Sales_ChannelTemp, np.log(hist['`0.0`']), width, label='0')\n",
        "plt.bar(hist.Policy_Sales_ChannelTemp + width, np.log(hist['`1.0`']), width,\n",
        "    label='1')\n",
        "\n",
        "plt.ylabel('Scores')\n",
        "plt.title('Scores by group and gender')\n",
        "\n",
        "plt.legend(loc='best')\n",
        "plt.show()"
      ],
      "execution_count": null,
      "outputs": [
        {
          "output_type": "error",
          "ename": "AttributeError",
          "evalue": "ignored",
          "traceback": [
            "\u001b[0;31m---------------------------------------------------------------------------\u001b[0m",
            "\u001b[0;31mAttributeError\u001b[0m                            Traceback (most recent call last)",
            "\u001b[0;32m<ipython-input-209-8fd63992469e>\u001b[0m in \u001b[0;36m<module>\u001b[0;34m()\u001b[0m\n\u001b[1;32m      1\u001b[0m \u001b[0mwidth\u001b[0m \u001b[0;34m=\u001b[0m \u001b[0;36m0.5\u001b[0m\u001b[0;34m\u001b[0m\u001b[0;34m\u001b[0m\u001b[0m\n\u001b[0;32m----> 2\u001b[0;31m \u001b[0mplt\u001b[0m\u001b[0;34m.\u001b[0m\u001b[0mbar\u001b[0m\u001b[0;34m(\u001b[0m\u001b[0mhist\u001b[0m\u001b[0;34m.\u001b[0m\u001b[0mPolicy_Sales_ChannelTemp\u001b[0m\u001b[0;34m,\u001b[0m \u001b[0mnp\u001b[0m\u001b[0;34m.\u001b[0m\u001b[0mlog\u001b[0m\u001b[0;34m(\u001b[0m\u001b[0mhist\u001b[0m\u001b[0;34m[\u001b[0m\u001b[0;34m'`0.0`'\u001b[0m\u001b[0;34m]\u001b[0m\u001b[0;34m)\u001b[0m\u001b[0;34m,\u001b[0m \u001b[0mwidth\u001b[0m\u001b[0;34m,\u001b[0m \u001b[0mlabel\u001b[0m\u001b[0;34m=\u001b[0m\u001b[0;34m'0'\u001b[0m\u001b[0;34m)\u001b[0m\u001b[0;34m\u001b[0m\u001b[0;34m\u001b[0m\u001b[0m\n\u001b[0m\u001b[1;32m      3\u001b[0m plt.bar(hist.Policy_Sales_ChannelTemp + width, np.log(hist['`1.0`']), width,\n\u001b[1;32m      4\u001b[0m     label='1')\n\u001b[1;32m      5\u001b[0m \u001b[0;34m\u001b[0m\u001b[0m\n",
            "\u001b[0;32m/usr/local/lib/python3.6/dist-packages/pandas/core/generic.py\u001b[0m in \u001b[0;36m__getattr__\u001b[0;34m(self, name)\u001b[0m\n\u001b[1;32m   5137\u001b[0m             \u001b[0;32mif\u001b[0m \u001b[0mself\u001b[0m\u001b[0;34m.\u001b[0m\u001b[0m_info_axis\u001b[0m\u001b[0;34m.\u001b[0m\u001b[0m_can_hold_identifiers_and_holds_name\u001b[0m\u001b[0;34m(\u001b[0m\u001b[0mname\u001b[0m\u001b[0;34m)\u001b[0m\u001b[0;34m:\u001b[0m\u001b[0;34m\u001b[0m\u001b[0;34m\u001b[0m\u001b[0m\n\u001b[1;32m   5138\u001b[0m                 \u001b[0;32mreturn\u001b[0m \u001b[0mself\u001b[0m\u001b[0;34m[\u001b[0m\u001b[0mname\u001b[0m\u001b[0;34m]\u001b[0m\u001b[0;34m\u001b[0m\u001b[0;34m\u001b[0m\u001b[0m\n\u001b[0;32m-> 5139\u001b[0;31m             \u001b[0;32mreturn\u001b[0m \u001b[0mobject\u001b[0m\u001b[0;34m.\u001b[0m\u001b[0m__getattribute__\u001b[0m\u001b[0;34m(\u001b[0m\u001b[0mself\u001b[0m\u001b[0;34m,\u001b[0m \u001b[0mname\u001b[0m\u001b[0;34m)\u001b[0m\u001b[0;34m\u001b[0m\u001b[0;34m\u001b[0m\u001b[0m\n\u001b[0m\u001b[1;32m   5140\u001b[0m \u001b[0;34m\u001b[0m\u001b[0m\n\u001b[1;32m   5141\u001b[0m     \u001b[0;32mdef\u001b[0m \u001b[0m__setattr__\u001b[0m\u001b[0;34m(\u001b[0m\u001b[0mself\u001b[0m\u001b[0;34m,\u001b[0m \u001b[0mname\u001b[0m\u001b[0;34m:\u001b[0m \u001b[0mstr\u001b[0m\u001b[0;34m,\u001b[0m \u001b[0mvalue\u001b[0m\u001b[0;34m)\u001b[0m \u001b[0;34m->\u001b[0m \u001b[0;32mNone\u001b[0m\u001b[0;34m:\u001b[0m\u001b[0;34m\u001b[0m\u001b[0;34m\u001b[0m\u001b[0m\n",
            "\u001b[0;31mAttributeError\u001b[0m: 'DataFrame' object has no attribute 'Policy_Sales_ChannelTemp'"
          ]
        }
      ]
    },
    {
      "cell_type": "code",
      "metadata": {
        "id": "3pRhxv-jOVjn"
      },
      "source": [
        "train = train.drop('Region_Code')"
      ],
      "execution_count": null,
      "outputs": []
    },
    {
      "cell_type": "code",
      "metadata": {
        "id": "UOKUKguGOcPa",
        "outputId": "c8dc6c81-de85-4149-a34e-2c6eb2407e23",
        "colab": {
          "base_uri": "https://localhost:8080/"
        }
      },
      "source": [
        "train.printSchema()"
      ],
      "execution_count": null,
      "outputs": [
        {
          "output_type": "stream",
          "text": [
            "root\n",
            " |-- Gender: string (nullable = true)\n",
            " |-- Vehicle_Age: string (nullable = true)\n",
            " |-- Vehicle_Damage: string (nullable = true)\n",
            " |-- Age: double (nullable = true)\n",
            " |-- Driving_License: double (nullable = true)\n",
            " |-- Previously_Insured: double (nullable = true)\n",
            " |-- Annual_Premium: double (nullable = true)\n",
            " |-- Policy_Sales_Channel: double (nullable = true)\n",
            " |-- Vintage: double (nullable = true)\n",
            " |-- Response: double (nullable = true)\n",
            "\n"
          ],
          "name": "stdout"
        }
      ]
    },
    {
      "cell_type": "code",
      "metadata": {
        "id": "kkJZ-OS2P74_",
        "outputId": "6f97fb4d-d975-4a5a-ffbb-829b07b178d3",
        "colab": {
          "base_uri": "https://localhost:8080/"
        }
      },
      "source": [
        "from pyspark.sql import Row\n",
        "from pyspark.ml.feature import StringIndexerModel\n",
        "\n",
        "gender_si = StringIndexerModel.from_labels(['Male', 'Female'],\n",
        "                                    inputCol=\"Gender\",\n",
        "                                    outputCol=\"indexedGender\")\n",
        "\n",
        "Vehicle_Age_si = StringIndexerModel.from_labels(['< 1 Year','1-2 Year', '> 2 Years'],\n",
        "                                    inputCol=\"Vehicle_Age\",\n",
        "                                    outputCol=\"indexedVehicle_Age\")\n",
        "\n",
        "Vehicle_Damage_si = StringIndexerModel.from_labels(['Yes', 'No'],\n",
        "                                    inputCol=\"Vehicle_Damage\",\n",
        "                                    outputCol=\"indexedVehicle_Damage\")\n",
        "\n",
        "vintage_bin = feature.QuantileDiscretizer(inputCol='Vintage', outputCol='vintage_bin',numBuckets= 3)\n",
        "\n",
        "feature_engineering_pipe = Pipeline(stages=[gender_si,Vehicle_Age_si,Vehicle_Damage_si,vintage_bin])\n",
        "\n",
        "train_xformed = feature_engineering_pipe.fit(train).transform(train).drop('Gender','Vehicle_Age','Vehicle_Damage','Vintage').withColumnRenamed(\"indexedGender\",'Gender').withColumnRenamed(\"indexedVehicle_Age\",'Vehicle_Age').withColumnRenamed(\"indexedVehicle_Damage\",'Vehicle_Damage').withColumnRenamed('vintage_bin','Vintage')\n",
        "\n",
        "train_xformed.show()\n"
      ],
      "execution_count": null,
      "outputs": [
        {
          "output_type": "stream",
          "text": [
            "+----+---------------+------------------+--------------+--------------------+--------+------+-----------+--------------+-------+\n",
            "| Age|Driving_License|Previously_Insured|Annual_Premium|Policy_Sales_Channel|Response|Gender|Vehicle_Age|Vehicle_Damage|Vintage|\n",
            "+----+---------------+------------------+--------------+--------------------+--------+------+-----------+--------------+-------+\n",
            "|44.0|            1.0|               0.0|       40454.0|                26.0|     1.0|   0.0|        2.0|           0.0|    2.0|\n",
            "|76.0|            1.0|               0.0|       33536.0|                26.0|     0.0|   0.0|        1.0|           1.0|    1.0|\n",
            "|47.0|            1.0|               0.0|       38294.0|                26.0|     1.0|   0.0|        2.0|           0.0|    0.0|\n",
            "|21.0|            1.0|               1.0|       28619.0|               152.0|     0.0|   0.0|        0.0|           1.0|    2.0|\n",
            "|29.0|            1.0|               1.0|       27496.0|               152.0|     0.0|   1.0|        0.0|           1.0|    0.0|\n",
            "|24.0|            1.0|               0.0|        2630.0|               160.0|     0.0|   1.0|        0.0|           0.0|    1.0|\n",
            "|23.0|            1.0|               0.0|       23367.0|               152.0|     0.0|   0.0|        0.0|           0.0|    2.0|\n",
            "|56.0|            1.0|               0.0|       32031.0|                26.0|     1.0|   1.0|        1.0|           0.0|    0.0|\n",
            "|24.0|            1.0|               1.0|       27619.0|               152.0|     0.0|   1.0|        0.0|           1.0|    0.0|\n",
            "|32.0|            1.0|               1.0|       28771.0|               152.0|     0.0|   1.0|        0.0|           1.0|    0.0|\n",
            "|47.0|            1.0|               0.0|       47576.0|               124.0|     1.0|   1.0|        1.0|           0.0|    0.0|\n",
            "|24.0|            1.0|               1.0|       48699.0|               152.0|     0.0|   1.0|        0.0|           1.0|    2.0|\n",
            "|41.0|            1.0|               1.0|       31409.0|                14.0|     0.0|   1.0|        1.0|           1.0|    2.0|\n",
            "|76.0|            1.0|               0.0|       36770.0|                13.0|     0.0|   0.0|        1.0|           0.0|    0.0|\n",
            "|71.0|            1.0|               1.0|       46818.0|                30.0|     0.0|   0.0|        1.0|           1.0|    0.0|\n",
            "|37.0|            1.0|               0.0|        2630.0|               156.0|     1.0|   0.0|        1.0|           0.0|    1.0|\n",
            "|25.0|            1.0|               0.0|       26218.0|               160.0|     0.0|   1.0|        0.0|           0.0|    2.0|\n",
            "|25.0|            1.0|               1.0|       46622.0|               152.0|     0.0|   1.0|        0.0|           1.0|    2.0|\n",
            "|42.0|            1.0|               0.0|       33667.0|               124.0|     0.0|   0.0|        1.0|           0.0|    1.0|\n",
            "|60.0|            1.0|               0.0|       32363.0|               124.0|     1.0|   1.0|        1.0|           0.0|    0.0|\n",
            "+----+---------------+------------------+--------------+--------------------+--------+------+-----------+--------------+-------+\n",
            "only showing top 20 rows\n",
            "\n"
          ],
          "name": "stdout"
        }
      ]
    },
    {
      "cell_type": "code",
      "metadata": {
        "id": "I2pdZNs_O-wl",
        "outputId": "4ec73d1d-6ffd-4c16-da1e-ac80e0431fc3",
        "colab": {
          "base_uri": "https://localhost:8080/"
        }
      },
      "source": [
        "train_xformed.printSchema()"
      ],
      "execution_count": null,
      "outputs": [
        {
          "output_type": "stream",
          "text": [
            "root\n",
            " |-- Age: double (nullable = true)\n",
            " |-- Driving_License: double (nullable = true)\n",
            " |-- Previously_Insured: double (nullable = true)\n",
            " |-- Annual_Premium: double (nullable = true)\n",
            " |-- Policy_Sales_Channel: double (nullable = true)\n",
            " |-- Response: double (nullable = true)\n",
            " |-- Gender: double (nullable = false)\n",
            " |-- Vehicle_Age: double (nullable = false)\n",
            " |-- Vehicle_Damage: double (nullable = false)\n",
            " |-- Vintage: double (nullable = true)\n",
            "\n"
          ],
          "name": "stdout"
        }
      ]
    },
    {
      "cell_type": "code",
      "metadata": {
        "id": "ZlFl7DyETWrC"
      },
      "source": [
        "numerical_features = Pipeline(stages=[feature.VectorAssembler(inputCols=['Age','Annual_Premium' ,'Policy_Sales_Channel'], \n",
        "                                                              outputCol = 'num_features'),\n",
        "                                      feature.StandardScaler(inputCol=\"num_features\", outputCol=\"scaledFeatures\")])"
      ],
      "execution_count": null,
      "outputs": []
    },
    {
      "cell_type": "code",
      "metadata": {
        "id": "tlRl563HWxck"
      },
      "source": [
        "\n",
        "all_features = Pipeline(stages=[numerical_features,\n",
        "                               feature.VectorAssembler(inputCols=['scaledFeatures','Driving_License','Gender','Vehicle_Age','Vehicle_Damage','Previously_Insured','Vintage'],outputCol = 'features')\n",
        "                               ])"
      ],
      "execution_count": null,
      "outputs": []
    },
    {
      "cell_type": "code",
      "metadata": {
        "id": "wyZgCjB9Yy8k"
      },
      "source": [
        "lr = classification.LogisticRegression(labelCol='Response')"
      ],
      "execution_count": null,
      "outputs": []
    },
    {
      "cell_type": "code",
      "metadata": {
        "id": "0697DA6gZD1v"
      },
      "source": [
        "final_model_pipeline = Pipeline(stages=[all_features, lr])"
      ],
      "execution_count": null,
      "outputs": []
    },
    {
      "cell_type": "code",
      "metadata": {
        "id": "h6pdd055ZFMS"
      },
      "source": [
        "train_df, validation_df = train_xformed.randomSplit([0.9, 0.1], 42)"
      ],
      "execution_count": null,
      "outputs": []
    },
    {
      "cell_type": "code",
      "metadata": {
        "id": "bJy5qxRaZT3w"
      },
      "source": [
        "initial_model = final_model_pipeline.fit(train_df)"
      ],
      "execution_count": null,
      "outputs": []
    },
    {
      "cell_type": "code",
      "metadata": {
        "id": "LEQ9DPFxZa4C",
        "outputId": "01f54516-debc-498c-e213-90f4715fce92",
        "colab": {
          "base_uri": "https://localhost:8080/"
        }
      },
      "source": [
        "print(\"Coefficients: \" + str(initial_model.stages[-1].coefficients))\n",
        "print(\"Intercept: \" + str(initial_model.stages[-1].intercept))"
      ],
      "execution_count": null,
      "outputs": [
        {
          "output_type": "stream",
          "text": [
            "Coefficients: [-0.30846465716569577,0.027676955088298153,-0.15535355961893196,1.3890492967533938,-0.10060276032856176,0.6868762090925543,-2.0304463831977753,-3.981621134242091,3.9042700884696076e-05]\n",
            "Intercept: -1.9625784416551981\n"
          ],
          "name": "stdout"
        }
      ]
    },
    {
      "cell_type": "code",
      "metadata": {
        "id": "X3qeMAbnahXP"
      },
      "source": [
        "predictions = initial_model.transform(validation_df)"
      ],
      "execution_count": null,
      "outputs": []
    },
    {
      "cell_type": "code",
      "metadata": {
        "id": "VQFwbm_TbAgu"
      },
      "source": [
        "evaluator = evaluation.BinaryClassificationEvaluator(labelCol = 'Response',metricName='areaUnderPR')"
      ],
      "execution_count": null,
      "outputs": []
    },
    {
      "cell_type": "code",
      "metadata": {
        "id": "EUJ7OtWSf82Q",
        "outputId": "f13132d2-fb8d-4fde-e6be-e8b4e41cd718",
        "colab": {
          "base_uri": "https://localhost:8080/"
        }
      },
      "source": [
        "print('Validation AreaUnderPR {}'.format(evaluator.evaluate(predictions)))"
      ],
      "execution_count": null,
      "outputs": [
        {
          "output_type": "stream",
          "text": [
            "Validation AreaUnderPR 0.32853003946014275\n"
          ],
          "name": "stdout"
        }
      ]
    },
    {
      "cell_type": "code",
      "metadata": {
        "id": "ZsPwHUTIgBkW",
        "outputId": "8e5b4c92-f502-4f5b-839e-e7818f317f09",
        "colab": {
          "base_uri": "https://localhost:8080/"
        }
      },
      "source": [
        "accuracy = predictions.filter(predictions.Response == predictions.prediction).count() / float(predictions.count())\n",
        "print(\"Accuracy : \",accuracy)"
      ],
      "execution_count": null,
      "outputs": [
        {
          "output_type": "stream",
          "text": [
            "Accuracy :  0.8736436730764227\n"
          ],
          "name": "stdout"
        }
      ]
    },
    {
      "cell_type": "code",
      "metadata": {
        "id": "wZ38tA37hzCL"
      },
      "source": [
        "predictions.show()"
      ],
      "execution_count": null,
      "outputs": []
    },
    {
      "cell_type": "code",
      "metadata": {
        "id": "CLRVdHyMnmdQ"
      },
      "source": [
        "features = ['Age', 'Annual_Premium', 'Policy_Sales_Channel', 'Driving_License','Gender','Vehicle_Age','Vehicle_Damage','Previously_Insured','Vintage' ]\n"
      ],
      "execution_count": null,
      "outputs": []
    },
    {
      "cell_type": "code",
      "metadata": {
        "id": "tyPaC3EJocOs"
      },
      "source": [
        "coefficients = initial_model.stages[-1].coefficients"
      ],
      "execution_count": null,
      "outputs": []
    },
    {
      "cell_type": "code",
      "metadata": {
        "id": "PLSRMJwApxB_",
        "outputId": "b5fc2fc0-f1bb-4e00-b4ba-99648fac155c",
        "colab": {
          "base_uri": "https://localhost:8080/",
          "height": 379
        }
      },
      "source": [
        "plt.bar(features, coefficients, width, label='0')\n",
        "plt.xticks(rotation=90)"
      ],
      "execution_count": null,
      "outputs": [
        {
          "output_type": "execute_result",
          "data": {
            "text/plain": [
              "([0, 1, 2, 3, 4, 5, 6, 7, 8], <a list of 9 Text major ticklabel objects>)"
            ]
          },
          "metadata": {
            "tags": []
          },
          "execution_count": 318
        },
        {
          "output_type": "display_data",
          "data": {
            "image/png": "[encoded data removed]",
            "text/plain": [
              "<Figure size 432x288 with 1 Axes>"
            ]
          },
          "metadata": {
            "tags": [],
            "needs_background": "light"
          }
        }
      ]
    },
    {
      "cell_type": "code",
      "metadata": {
        "id": "RHp8p_D7qQlj",
        "outputId": "e0dc23c8-e63f-4e0d-97fb-a66a8cd7ecdb",
        "colab": {
          "base_uri": "https://localhost:8080/"
        }
      },
      "source": [
        "train.describe().show()"
      ],
      "execution_count": null,
      "outputs": [
        {
          "output_type": "stream",
          "text": [
            "+-------+------+-----------+--------------+------------------+-------------------+-------------------+------------------+--------------------+------------------+-------------------+\n",
            "|summary|Gender|Vehicle_Age|Vehicle_Damage|               Age|    Driving_License| Previously_Insured|    Annual_Premium|Policy_Sales_Channel|           Vintage|           Response|\n",
            "+-------+------+-----------+--------------+------------------+-------------------+-------------------+------------------+--------------------+------------------+-------------------+\n",
            "|  count|381109|     381109|        381109|            381109|             381109|             381109|            381109|              381109|            381109|             381109|\n",
            "|   mean|  null|       null|          null|38.822583565331705| 0.9978693759528114| 0.4582101183650871|30564.389581458323|  112.03429465061177|154.34739667654136|0.12256336113815208|\n",
            "| stddev|  null|       null|          null|15.511611018095289|0.04610954420779939|0.49825119888722647| 17213.15505698001|   54.20399477485634| 83.67130362658735|0.32793576478642567|\n",
            "|    min|Female|   1-2 Year|            No|              20.0|                0.0|                0.0|            2630.0|                 1.0|              10.0|                0.0|\n",
            "|    max|  Male|  > 2 Years|           Yes|              85.0|                1.0|                1.0|          540165.0|               163.0|             299.0|                1.0|\n",
            "+-------+------+-----------+--------------+------------------+-------------------+-------------------+------------------+--------------------+------------------+-------------------+\n",
            "\n"
          ],
          "name": "stdout"
        }
      ]
    },
    {
      "cell_type": "code",
      "metadata": {
        "id": "rhabwlZ1rIDZ",
        "outputId": "0890a2b0-25ee-42c5-bb40-f5092531d822",
        "colab": {
          "base_uri": "https://localhost:8080/",
          "height": 299
        }
      },
      "source": [
        "train.toPandas().Vintage.hist()\n",
        "plt.xlabel('vintage')"
      ],
      "execution_count": null,
      "outputs": [
        {
          "output_type": "execute_result",
          "data": {
            "text/plain": [
              "Text(0.5, 0, 'vintage')"
            ]
          },
          "metadata": {
            "tags": []
          },
          "execution_count": 228
        },
        {
          "output_type": "display_data",
          "data": {
            "image/png": "[encoded data removed]",
            "text/plain": [
              "<Figure size 432x288 with 1 Axes>"
            ]
          },
          "metadata": {
            "tags": [],
            "needs_background": "light"
          }
        }
      ]
    },
    {
      "cell_type": "code",
      "metadata": {
        "id": "4ar_GCeurYKv",
        "outputId": "20e41f92-9797-4773-eeff-ea227ac21a35",
        "colab": {
          "base_uri": "https://localhost:8080/",
          "height": 296
        }
      },
      "source": [
        "train.toPandas().Annual_Premium.hist()\n",
        "plt.xlabel('vintage')"
      ],
      "execution_count": null,
      "outputs": [
        {
          "output_type": "execute_result",
          "data": {
            "text/plain": [
              "Text(0.5, 0, 'vintage')"
            ]
          },
          "metadata": {
            "tags": []
          },
          "execution_count": 232
        },
        {
          "output_type": "display_data",
          "data": {
            "image/png": "[encoded data removed]",
            "text/plain": [
              "<Figure size 432x288 with 1 Axes>"
            ]
          },
          "metadata": {
            "tags": [],
            "needs_background": "light"
          }
        }
      ]
    },
    {
      "cell_type": "code",
      "metadata": {
        "id": "Hplzh92dsj98",
        "outputId": "f67774fc-767e-482e-d0f9-3fc485a888f2",
        "colab": {
          "base_uri": "https://localhost:8080/",
          "height": 282
        }
      },
      "source": [
        "feature.QuantileDiscretizer(numBuckets=3, inputCol='Annual_Premium', outputCol='premium_bins').fit(train).transform(train).toPandas().iloc[:, -1].hist()"
      ],
      "execution_count": null,
      "outputs": [
        {
          "output_type": "execute_result",
          "data": {
            "text/plain": [
              "<matplotlib.axes._subplots.AxesSubplot at 0x7f0433110240>"
            ]
          },
          "metadata": {
            "tags": []
          },
          "execution_count": 231
        },
        {
          "output_type": "display_data",
          "data": {
            "image/png": "[encoded data removed]",
            "text/plain": [
              "<Figure size 432x288 with 1 Axes>"
            ]
          },
          "metadata": {
            "tags": [],
            "needs_background": "light"
          }
        }
      ]
    },
    {
      "cell_type": "code",
      "metadata": {
        "id": "0PQJVnpmusYp"
      },
      "source": [
        "paramGrid = ParamGridBuilder() \\\n",
        "    .addGrid(lr.elasticNetParam, [0., 0.01, 0.1]) \\\n",
        "    .addGrid(lr.regParam, [0.1, 0.01, 0.001, 0.0001]) \\\n",
        "    .build()"
      ],
      "execution_count": null,
      "outputs": []
    },
    {
      "cell_type": "code",
      "metadata": {
        "id": "QkxO8JW0utEA"
      },
      "source": [
        "crossval = CrossValidator(estimator=final_model_pipeline, \n",
        "                          estimatorParamMaps=paramGrid, \n",
        "                          evaluator=evaluator, \n",
        "                          numFolds=2)"
      ],
      "execution_count": null,
      "outputs": []
    },
    {
      "cell_type": "code",
      "metadata": {
        "id": "-vY3BPX-uy7y"
      },
      "source": [
        "final_model_fitted = crossval.fit(train_df)"
      ],
      "execution_count": null,
      "outputs": []
    },
    {
      "cell_type": "code",
      "metadata": {
        "id": "MDIPlGs_u5-y"
      },
      "source": [
        "evaluator.evaluate(final_model_fitted.transform(validation_df))"
      ],
      "execution_count": null,
      "outputs": []
    },
    {
      "cell_type": "code",
      "metadata": {
        "id": "KhPZTjTXu6iY"
      },
      "source": [
        "coefficients = final_model_fitted.bestModel.stages[-1].coefficients"
      ],
      "execution_count": null,
      "outputs": []
    },
    {
      "cell_type": "code",
      "metadata": {
        "id": "hmQeZ6RzvChJ"
      },
      "source": [
        "plt.bar(features, coefficients, width, label='0')\n",
        "plt.xticks(rotation=90)"
      ],
      "execution_count": null,
      "outputs": []
    },
    {
      "cell_type": "code",
      "metadata": {
        "id": "19YaxDk21EtP"
      },
      "source": [
        "predictions = final_model_fitted.transform(validation_df)\n",
        "accuracy = predictions.filter(predictions.Response == predictions.prediction).count() / float(predictions.count())\n",
        "print(\"Accuracy : \",accuracy)"
      ],
      "execution_count": null,
      "outputs": []
    },
    {
      "cell_type": "code",
      "metadata": {
        "id": "0I1EmMj3Y-Vk"
      },
      "source": [
        "explo = train.toPandas()"
      ],
      "execution_count": null,
      "outputs": []
    },
    {
      "cell_type": "code",
      "metadata": {
        "id": "jUThuBZ2d8p3",
        "outputId": "50a49419-5846-4ba1-986f-22a3714ee241",
        "colab": {
          "base_uri": "https://localhost:8080/",
          "height": 909
        }
      },
      "source": [
        "from pyspark.sql import Row\n",
        "from pyspark.ml.feature import StringIndexerModel\n",
        "\n",
        "gender_si = StringIndexerModel.from_labels(['Male', 'Female'],\n",
        "                                    inputCol=\"Gender\",\n",
        "                                    outputCol=\"indexedGender\")\n",
        "\n",
        "Vehicle_Age_si = StringIndexerModel.from_labels(['< 1 Year','1-2 Year', '> 2 Years'],\n",
        "                                    inputCol=\"Vehicle_Age\",\n",
        "                                    outputCol=\"indexedVehicle_Age\")\n",
        "\n",
        "Vehicle_Damage_si = StringIndexerModel.from_labels(['Yes', 'No'],\n",
        "                                    inputCol=\"Vehicle_Damage\",\n",
        "                                    outputCol=\"indexedVehicle_Damage\")\n",
        "\n",
        "#vintage_bin = feature.QuantileDiscretizer(inputCol='Vintage', outputCol='vintage_bin',numBuckets= 3)\n",
        "\n",
        "feature_engineering_pipe = Pipeline(stages=[gender_si,Vehicle_Age_si,Vehicle_Damage_si])\n",
        "\n",
        "train_xformed = feature_engineering_pipe.fit(train).transform(train).drop('Gender','Vehicle_Age','Vehicle_Damage').withColumnRenamed(\"indexedGender\",'Gender').withColumnRenamed(\"indexedVehicle_Age\",'Vehicle_Age').withColumnRenamed(\"indexedVehicle_Damage\",'Vehicle_Damage')\n",
        "\n",
        "train_xformed.show()\n",
        "\n",
        "numerical_features = Pipeline(stages=[feature.VectorAssembler(inputCols=['Age','Annual_Premium' ,'Policy_Sales_Channel','Vintage'], \n",
        "                                                              outputCol = 'num_features'),\n",
        "                                      feature.StandardScaler(inputCol=\"num_features\", outputCol=\"scaledFeatures\")])\n",
        "\n",
        "\n",
        "all_features = Pipeline(stages=[numerical_features,\n",
        "                               feature.VectorAssembler(inputCols=['scaledFeatures','Driving_License','Gender','Vehicle_Age','Vehicle_Damage','Previously_Insured'],outputCol = 'features')\n",
        "                               ])\n",
        "\n",
        "lr = classification.LogisticRegression(labelCol='Response')\n",
        "final_model_pipeline = Pipeline(stages=[all_features, lr])\n",
        "train_df, validation_df = train_xformed.randomSplit([0.9, 0.1], 42)\n",
        "initial_model = final_model_pipeline.fit(train_df)\n",
        "print(\"Coefficients: \" + str(initial_model.stages[-1].coefficients))\n",
        "print(\"Intercept: \" + str(initial_model.stages[-1].intercept))\n",
        "predictions = initial_model.transform(validation_df)\n",
        "evaluator = evaluation.BinaryClassificationEvaluator(labelCol = 'Response',metricName='areaUnderPR')\n",
        "print('Validation AreaUnderPR {}'.format(evaluator.evaluate(predictions)))\n",
        "accuracy = predictions.filter(predictions.Response == predictions.prediction).count() / float(predictions.count())\n",
        "print(\"Accuracy : \",accuracy)\n",
        "features = ['Age', 'Annual_Premium', 'Policy_Sales_Channel','Vintage', 'Driving_License','Gender','Vehicle_Age','Vehicle_Damage','Previously_Insured']\n",
        "coefficients = initial_model.stages[-1].coefficients\n",
        "plt.bar(features, coefficients, width, label='0')\n",
        "plt.xticks(rotation=90)"
      ],
      "execution_count": null,
      "outputs": [
        {
          "output_type": "stream",
          "text": [
            "+----+---------------+------------------+--------------+--------------------+-------+--------+------+-----------+--------------+\n",
            "| Age|Driving_License|Previously_Insured|Annual_Premium|Policy_Sales_Channel|Vintage|Response|Gender|Vehicle_Age|Vehicle_Damage|\n",
            "+----+---------------+------------------+--------------+--------------------+-------+--------+------+-----------+--------------+\n",
            "|44.0|            1.0|               0.0|       40454.0|                26.0|  217.0|     1.0|   0.0|        2.0|           0.0|\n",
            "|76.0|            1.0|               0.0|       33536.0|                26.0|  183.0|     0.0|   0.0|        1.0|           1.0|\n",
            "|47.0|            1.0|               0.0|       38294.0|                26.0|   27.0|     1.0|   0.0|        2.0|           0.0|\n",
            "|21.0|            1.0|               1.0|       28619.0|               152.0|  203.0|     0.0|   0.0|        0.0|           1.0|\n",
            "|29.0|            1.0|               1.0|       27496.0|               152.0|   39.0|     0.0|   1.0|        0.0|           1.0|\n",
            "|24.0|            1.0|               0.0|        2630.0|               160.0|  176.0|     0.0|   1.0|        0.0|           0.0|\n",
            "|23.0|            1.0|               0.0|       23367.0|               152.0|  249.0|     0.0|   0.0|        0.0|           0.0|\n",
            "|56.0|            1.0|               0.0|       32031.0|                26.0|   72.0|     1.0|   1.0|        1.0|           0.0|\n",
            "|24.0|            1.0|               1.0|       27619.0|               152.0|   28.0|     0.0|   1.0|        0.0|           1.0|\n",
            "|32.0|            1.0|               1.0|       28771.0|               152.0|   80.0|     0.0|   1.0|        0.0|           1.0|\n",
            "|47.0|            1.0|               0.0|       47576.0|               124.0|   46.0|     1.0|   1.0|        1.0|           0.0|\n",
            "|24.0|            1.0|               1.0|       48699.0|               152.0|  289.0|     0.0|   1.0|        0.0|           1.0|\n",
            "|41.0|            1.0|               1.0|       31409.0|                14.0|  221.0|     0.0|   1.0|        1.0|           1.0|\n",
            "|76.0|            1.0|               0.0|       36770.0|                13.0|   15.0|     0.0|   0.0|        1.0|           0.0|\n",
            "|71.0|            1.0|               1.0|       46818.0|                30.0|   58.0|     0.0|   0.0|        1.0|           1.0|\n",
            "|37.0|            1.0|               0.0|        2630.0|               156.0|  147.0|     1.0|   0.0|        1.0|           0.0|\n",
            "|25.0|            1.0|               0.0|       26218.0|               160.0|  256.0|     0.0|   1.0|        0.0|           0.0|\n",
            "|25.0|            1.0|               1.0|       46622.0|               152.0|  299.0|     0.0|   1.0|        0.0|           1.0|\n",
            "|42.0|            1.0|               0.0|       33667.0|               124.0|  158.0|     0.0|   0.0|        1.0|           0.0|\n",
            "|60.0|            1.0|               0.0|       32363.0|               124.0|  102.0|     1.0|   1.0|        1.0|           0.0|\n",
            "+----+---------------+------------------+--------------+--------------------+-------+--------+------+-----------+--------------+\n",
            "only showing top 20 rows\n",
            "\n",
            "Coefficients: [-0.3082807677765109,0.027106467352496298,-0.15455372154398359,-0.001593787960161729,1.2270719424674066,-0.10239867328233777,0.689221093875775,-2.0347880340892175,-3.9954074889654008]\n",
            "Intercept: -1.7993139120849817\n",
            "Validation AreaUnderPR 0.3280674925278422\n",
            "Accuracy :  0.873669693736827\n"
          ],
          "name": "stdout"
        },
        {
          "output_type": "execute_result",
          "data": {
            "text/plain": [
              "([0, 1, 2, 3, 4, 5, 6, 7, 8], <a list of 9 Text major ticklabel objects>)"
            ]
          },
          "metadata": {
            "tags": []
          },
          "execution_count": 320
        },
        {
          "output_type": "display_data",
          "data": {
            "image/png": "[encoded data removed]",
            "text/plain": [
              "<Figure size 432x288 with 1 Axes>"
            ]
          },
          "metadata": {
            "tags": [],
            "needs_background": "light"
          }
        }
      ]
    },
    {
      "cell_type": "code",
      "metadata": {
        "id": "zH_uWAeck0ix",
        "outputId": "3554cfcf-06ed-47ba-e720-c21e4e4570cf",
        "colab": {
          "base_uri": "https://localhost:8080/",
          "height": 1000
        }
      },
      "source": [
        "from pyspark.sql import Row\n",
        "from pyspark.ml.feature import StringIndexerModel\n",
        "\n",
        "gender_si = StringIndexerModel.from_labels(['Male', 'Female'],\n",
        "                                    inputCol=\"Gender\",\n",
        "                                    outputCol=\"indexedGender\")\n",
        "\n",
        "Vehicle_Age_si = StringIndexerModel.from_labels(['< 1 Year','1-2 Year', '> 2 Years'],\n",
        "                                    inputCol=\"Vehicle_Age\",\n",
        "                                    outputCol=\"indexedVehicle_Age\")\n",
        "\n",
        "Vehicle_Damage_si = StringIndexerModel.from_labels(['No', 'Yes'],\n",
        "                                    inputCol=\"Vehicle_Damage\",\n",
        "                                    outputCol=\"indexedVehicle_Damage\")\n",
        "\n",
        "policy_si = feature.StringIndexer(inputCol='Policy_Sales_Channel', outputCol='policy_col2', handleInvalid='skip')\n",
        "policy_one_hot = feature.OneHotEncoder(inputCol='policy_col2',outputCol = \"One Hot Policy\")\n",
        "\n",
        "region_si = feature.StringIndexer(inputCol='Region_Code', outputCol='region_col2', handleInvalid='skip')\n",
        "region_one_hot = feature.OneHotEncoder(inputCol='region_col2',outputCol = \"One Hot Region\")\n",
        "\n",
        "\n",
        "feature_engineering_pipe = Pipeline(stages=[gender_si,Vehicle_Age_si,Vehicle_Damage_si,policy_si,policy_one_hot,region_si,region_one_hot])\n",
        "\n",
        "train_xformed = feature_engineering_pipe.fit(train).transform(train).drop('Gender','Vehicle_Age','Vehicle_Damage','policy_col2','Policy_Sales_Channel','Region_Code','region_col2').withColumnRenamed(\"indexedGender\",'Gender').withColumnRenamed(\"indexedVehicle_Age\",'Vehicle_Age').withColumnRenamed(\"indexedVehicle_Damage\",'Vehicle_Damage').withColumnRenamed(\"One Hot Policy\",'Policy_Sales_Channel').withColumnRenamed(\"One Hot Region\",'Region_Code')\n",
        "\n",
        "train_xformed.show()\n",
        "\n",
        "numerical_features = Pipeline(stages=[feature.VectorAssembler(inputCols=['Age','Annual_Premium' ,'Policy_Sales_Channel','Vintage','Region_Code'], \n",
        "                                                              outputCol = 'num_features'),\n",
        "                                      feature.StandardScaler(inputCol=\"num_features\", outputCol=\"scaledFeatures\")])\n",
        "\n",
        "\n",
        "all_features = Pipeline(stages=[numerical_features,\n",
        "                               feature.VectorAssembler(inputCols=['scaledFeatures','Driving_License','Gender','Vehicle_Age','Vehicle_Damage','Previously_Insured'],outputCol = 'features')\n",
        "                               ])\n",
        "\n",
        "lr = classification.LogisticRegression(labelCol='Response')\n",
        "final_model_pipeline = Pipeline(stages=[all_features, lr])\n",
        "train_df, validation_df = train_xformed.randomSplit([0.9, 0.1], 42)\n",
        "initial_model = final_model_pipeline.fit(train_df)\n",
        "print(\"Coefficients: \" + str(initial_model.stages[-1].coefficients))\n",
        "print(\"Intercept: \" + str(initial_model.stages[-1].intercept))\n",
        "predictions = initial_model.transform(validation_df)\n",
        "evaluator = evaluation.BinaryClassificationEvaluator(labelCol = 'Response',metricName='areaUnderPR')\n",
        "print('Validation AreaUnderPR {}'.format(evaluator.evaluate(predictions)))\n",
        "accuracy = predictions.filter(predictions.Response == predictions.prediction).count() / float(predictions.count())\n",
        "print(\"Accuracy : \",accuracy)"
      ],
      "execution_count": null,
      "outputs": [
        {
          "output_type": "stream",
          "text": [
            "+----+---------------+------------------+--------------+-------+--------+------+-----------+--------------+--------------------+---------------+\n",
            "| Age|Driving_License|Previously_Insured|Annual_Premium|Vintage|Response|Gender|Vehicle_Age|Vehicle_Damage|Policy_Sales_Channel|    Region_Code|\n",
            "+----+---------------+------------------+--------------+-------+--------+------+-----------+--------------+--------------------+---------------+\n",
            "|44.0|            1.0|               0.0|       40454.0|  217.0|     1.0|   0.0|        2.0|           1.0|     (154,[1],[1.0])| (52,[0],[1.0])|\n",
            "|76.0|            1.0|               0.0|       33536.0|  183.0|     0.0|   0.0|        1.0|           0.0|     (154,[1],[1.0])| (52,[8],[1.0])|\n",
            "|47.0|            1.0|               0.0|       38294.0|   27.0|     1.0|   0.0|        2.0|           1.0|     (154,[1],[1.0])| (52,[0],[1.0])|\n",
            "|21.0|            1.0|               1.0|       28619.0|  203.0|     0.0|   0.0|        0.0|           0.0|     (154,[0],[1.0])| (52,[9],[1.0])|\n",
            "|29.0|            1.0|               1.0|       27496.0|   39.0|     0.0|   1.0|        0.0|           0.0|     (154,[0],[1.0])| (52,[3],[1.0])|\n",
            "|24.0|            1.0|               0.0|        2630.0|  176.0|     0.0|   1.0|        0.0|           1.0|     (154,[3],[1.0])|(52,[11],[1.0])|\n",
            "|23.0|            1.0|               0.0|       23367.0|  249.0|     0.0|   0.0|        0.0|           1.0|     (154,[0],[1.0])| (52,[9],[1.0])|\n",
            "|56.0|            1.0|               0.0|       32031.0|   72.0|     1.0|   1.0|        1.0|           1.0|     (154,[1],[1.0])| (52,[0],[1.0])|\n",
            "|24.0|            1.0|               1.0|       27619.0|   28.0|     0.0|   1.0|        0.0|           0.0|     (154,[0],[1.0])| (52,[8],[1.0])|\n",
            "|32.0|            1.0|               1.0|       28771.0|   80.0|     0.0|   1.0|        0.0|           0.0|     (154,[0],[1.0])|(52,[14],[1.0])|\n",
            "|47.0|            1.0|               0.0|       47576.0|   46.0|     1.0|   1.0|        1.0|           1.0|     (154,[2],[1.0])|(52,[13],[1.0])|\n",
            "|24.0|            1.0|               1.0|       48699.0|  289.0|     0.0|   1.0|        0.0|           0.0|     (154,[0],[1.0])| (52,[7],[1.0])|\n",
            "|41.0|            1.0|               1.0|       31409.0|  221.0|     0.0|   1.0|        1.0|           0.0|    (154,[27],[1.0])| (52,[4],[1.0])|\n",
            "|76.0|            1.0|               0.0|       36770.0|   15.0|     0.0|   0.0|        1.0|           1.0|    (154,[10],[1.0])| (52,[0],[1.0])|\n",
            "|71.0|            1.0|               1.0|       46818.0|   58.0|     0.0|   0.0|        1.0|           0.0|    (154,[14],[1.0])| (52,[0],[1.0])|\n",
            "|37.0|            1.0|               0.0|        2630.0|  147.0|     1.0|   0.0|        1.0|           1.0|     (154,[4],[1.0])|(52,[14],[1.0])|\n",
            "|25.0|            1.0|               0.0|       26218.0|  256.0|     0.0|   1.0|        0.0|           1.0|     (154,[3],[1.0])|(52,[15],[1.0])|\n",
            "|25.0|            1.0|               1.0|       46622.0|  299.0|     0.0|   1.0|        0.0|           0.0|     (154,[0],[1.0])|(52,[13],[1.0])|\n",
            "|42.0|            1.0|               0.0|       33667.0|  158.0|     0.0|   0.0|        1.0|           1.0|     (154,[2],[1.0])| (52,[0],[1.0])|\n",
            "|60.0|            1.0|               0.0|       32363.0|  102.0|     1.0|   1.0|        1.0|           1.0|     (154,[2],[1.0])|(52,[11],[1.0])|\n",
            "+----+---------------+------------------+--------------+-------+--------+------+-----------+--------------+--------------------+---------------+\n",
            "only showing top 20 rows\n",
            "\n",
            "Coefficients: [-0.38815346044666843,0.012484772288451946,-0.614885352850832,0.014284878901750637,-0.0575746679734052,-0.5197349841064898,-0.055318313321849506,-0.03652189851080699,-0.009846370792159517,-0.015390245538256154,-0.15286293357724823,0.008513288199683776,-0.028167583200781835,0.009410892235743528,-0.008035212209764631,-0.019654393757288512,-0.016818622980528906,-0.021541682764197333,0.015800248742323872,-0.035946440206930594,-0.03747071802056054,-0.029027419347149676,-0.027110263226733378,-0.007182185585122966,-0.012395804643395675,-0.016207888115268125,-0.014038215041030994,-0.013104897467518662,0.005372787420699018,-0.01388482747221978,-0.035038878323224935,-0.027055071281303432,-0.010387414899124163,0.011817782561203699,-0.02104324939354271,-0.0018281229145257253,-0.0052453617305692,-0.009646253927223125,-0.025004686295470993,0.000790423503611877,-0.01093288563672074,-0.009965284640282146,0.0009329575495600423,-0.0032911214441717677,-0.017097956407441238,-0.0014028618598761822,-0.007046098149904928,-0.017925739659273108,-0.001228110451366457,-0.010540669964672348,-0.014870711119466237,-0.012501086262507812,-0.02026950234722174,-0.007253421719903967,-0.0030291005964474564,-0.003502192715173204,-0.008537053010980337,-0.013303394298969911,-0.020027969045404652,-0.020747614166270266,-0.008426971210827935,-0.0080918741547552,-0.012419611524738474,0.0016075469309962322,-0.008115623250815137,-0.012103374716733216,-0.016359526256512193,-0.0028338449953107755,-0.005397523421211735,-0.0014830339177120037,-0.011810572403732402,-0.00016828894642790396,0.006030453942700241,-0.005258983968106951,-0.010577305139386334,-0.0074281284132628475,-0.000760448942136882,0.004191900853814349,0.0053719120338236725,-0.08367486418242537,-0.0009123905863542841,-0.011454679908837456,0.002520980516242983,-0.012293266058797592,-0.0005466331625052802,-0.019085238017927,0.0005151342226481264,-0.004262724836645449,-0.004402218035098525,0.004317113159916281,0.0012323946494170958,-0.005405453000184151,0.0021392581563748,0.0011867348142471684,-0.002837048117848752,-0.04937433110546418,-0.010014278132174943,-0.001061825059190993,-0.042140199696338525,-0.0033172014979985787,-0.04474512970066098,0.004167716665876914,-0.04437465621471454,-0.04175385571442473,-0.0032909652801365453,-0.0005160177501238908,0.0010279677650339035,0.0069484705937054875,0.0012499782266529606,-0.005857264634489295,-0.0009707964771184463,-0.005418108489238323,-0.006354453263150631,-0.033330438743257244,-0.033756432146684605,-0.006933454743309965,-0.004862792320662931,-0.0326117262289245,-0.0014286122199958537,-0.03232781726663854,0.0037160827313847417,-0.008258844934388457,-0.0019198232223444015,-0.02915931145684136,-0.021731831398089464,0.0012184445503161442,-0.029072045653185212,-0.025992916511040826,-0.023899733969352795,-0.001992133572414011,-0.02492878372288314,-0.019406782495493314,-0.0006454813988480478,-0.02651683615462162,0.00795785360149358,-0.02502793789098195,-0.02311820633163549,-0.021658833770955857,-0.019425660679952286,-0.01872025948671727,-0.005555600178225708,0.0009361528781511075,0.0029785815898531786,-0.022562852590917278,-0.01868809081980006,-0.019640633960496656,-0.017531045818317194,-0.01854084359004538,-0.01627557050387999,-0.017011460254547018,0.0,-0.011595686292611262,-0.0032361532167033413,-0.01487862367514605,-0.0028176188446348144,0.016779067219209118,-0.0011338886634475376,-0.18885256984814916,-0.18920930112660997,-0.11100410394446308,-0.045934601276361155,-0.12569288922706018,-0.057779280357417306,-0.03106647639129657,-0.15231657521548211,-0.04995362871274549,-0.018165147380594635,-0.09489507170466618,-0.07394184567403968,-0.10770926573034593,-0.02409374036092626,-0.039825200784981855,-0.05533050763304792,-0.0771485379963606,-0.025343867394536795,-0.1121227370338364,-0.050263241310544826,-0.07123144687282121,-0.0625850271436169,-0.03900260054277197,-0.07691227068492143,-0.06295740822876651,-0.053630402287406786,-0.048210437884867494,-0.07805840369679787,-0.05914139719436796,-0.036665107100142064,-0.0709881528194781,-0.06744316205496055,-0.07850935759340905,-0.08214659387536309,-0.034333078875506594,-0.02487462500650053,-0.09116574256621617,-0.05492885233410141,-0.02522540293465397,-0.06250992426406593,-0.0642982386524968,-0.06262706930967038,-0.02479314868572028,-0.05899333602393685,-0.03414131579804252,-0.054057160068257386,-0.0365114287938775,-0.02951556326145378,-0.05146264386647794,-0.04921401554483642,-0.03761467059129004,-0.016126848559246978,1.0895900650610408,-0.06704115099690494,0.2599346225850042,1.9512893406787841,-3.9349374203113485]\n",
            "Intercept: -2.4648986934309174\n",
            "Validation AreaUnderPR 0.33704419697125176\n",
            "Accuracy :  0.8749707267570451\n"
          ],
          "name": "stdout"
        },
        {
          "output_type": "error",
          "ename": "ValueError",
          "evalue": "ignored",
          "traceback": [
            "\u001b[0;31m---------------------------------------------------------------------------\u001b[0m",
            "\u001b[0;31mValueError\u001b[0m                                Traceback (most recent call last)",
            "\u001b[0;32m<ipython-input-338-3b403c10c01d>\u001b[0m in \u001b[0;36m<module>\u001b[0;34m()\u001b[0m\n\u001b[1;32m     49\u001b[0m \u001b[0mfeatures\u001b[0m \u001b[0;34m=\u001b[0m \u001b[0;34m[\u001b[0m\u001b[0;34m'Age'\u001b[0m\u001b[0;34m,\u001b[0m \u001b[0;34m'Annual_Premium'\u001b[0m\u001b[0;34m,\u001b[0m \u001b[0;34m'Policy_Sales_Channel'\u001b[0m\u001b[0;34m,\u001b[0m\u001b[0;34m'Vintage'\u001b[0m\u001b[0;34m,\u001b[0m \u001b[0;34m'Region_Code'\u001b[0m\u001b[0;34m,\u001b[0m\u001b[0;34m'Driving_License'\u001b[0m\u001b[0;34m,\u001b[0m\u001b[0;34m'Gender'\u001b[0m\u001b[0;34m,\u001b[0m\u001b[0;34m'Vehicle_Age'\u001b[0m\u001b[0;34m,\u001b[0m\u001b[0;34m'Vehicle_Damage'\u001b[0m\u001b[0;34m,\u001b[0m\u001b[0;34m'Previously_Insured'\u001b[0m\u001b[0;34m]\u001b[0m\u001b[0;34m\u001b[0m\u001b[0;34m\u001b[0m\u001b[0m\n\u001b[1;32m     50\u001b[0m \u001b[0mcoefficients\u001b[0m \u001b[0;34m=\u001b[0m \u001b[0minitial_model\u001b[0m\u001b[0;34m.\u001b[0m\u001b[0mstages\u001b[0m\u001b[0;34m[\u001b[0m\u001b[0;34m-\u001b[0m\u001b[0;36m1\u001b[0m\u001b[0;34m]\u001b[0m\u001b[0;34m.\u001b[0m\u001b[0mcoefficients\u001b[0m\u001b[0;34m\u001b[0m\u001b[0;34m\u001b[0m\u001b[0m\n\u001b[0;32m---> 51\u001b[0;31m \u001b[0mplt\u001b[0m\u001b[0;34m.\u001b[0m\u001b[0mbar\u001b[0m\u001b[0;34m(\u001b[0m\u001b[0mfeatures\u001b[0m\u001b[0;34m,\u001b[0m \u001b[0mcoefficients\u001b[0m\u001b[0;34m,\u001b[0m \u001b[0mwidth\u001b[0m\u001b[0;34m,\u001b[0m \u001b[0mlabel\u001b[0m\u001b[0;34m=\u001b[0m\u001b[0;34m'1'\u001b[0m\u001b[0;34m)\u001b[0m\u001b[0;34m\u001b[0m\u001b[0;34m\u001b[0m\u001b[0m\n\u001b[0m\u001b[1;32m     52\u001b[0m \u001b[0mplt\u001b[0m\u001b[0;34m.\u001b[0m\u001b[0mxticks\u001b[0m\u001b[0;34m(\u001b[0m\u001b[0mrotation\u001b[0m\u001b[0;34m=\u001b[0m\u001b[0;36m90\u001b[0m\u001b[0;34m)\u001b[0m\u001b[0;34m\u001b[0m\u001b[0;34m\u001b[0m\u001b[0m\n",
            "\u001b[0;32m/usr/local/lib/python3.6/dist-packages/matplotlib/pyplot.py\u001b[0m in \u001b[0;36mbar\u001b[0;34m(x, height, width, bottom, align, data, **kwargs)\u001b[0m\n\u001b[1;32m   2407\u001b[0m     return gca().bar(\n\u001b[1;32m   2408\u001b[0m         \u001b[0mx\u001b[0m\u001b[0;34m,\u001b[0m \u001b[0mheight\u001b[0m\u001b[0;34m,\u001b[0m \u001b[0mwidth\u001b[0m\u001b[0;34m=\u001b[0m\u001b[0mwidth\u001b[0m\u001b[0;34m,\u001b[0m \u001b[0mbottom\u001b[0m\u001b[0;34m=\u001b[0m\u001b[0mbottom\u001b[0m\u001b[0;34m,\u001b[0m \u001b[0malign\u001b[0m\u001b[0;34m=\u001b[0m\u001b[0malign\u001b[0m\u001b[0;34m,\u001b[0m\u001b[0;34m\u001b[0m\u001b[0;34m\u001b[0m\u001b[0m\n\u001b[0;32m-> 2409\u001b[0;31m         **({\"data\": data} if data is not None else {}), **kwargs)\n\u001b[0m\u001b[1;32m   2410\u001b[0m \u001b[0;34m\u001b[0m\u001b[0m\n\u001b[1;32m   2411\u001b[0m \u001b[0;34m\u001b[0m\u001b[0m\n",
            "\u001b[0;32m/usr/local/lib/python3.6/dist-packages/matplotlib/__init__.py\u001b[0m in \u001b[0;36minner\u001b[0;34m(ax, data, *args, **kwargs)\u001b[0m\n\u001b[1;32m   1563\u001b[0m     \u001b[0;32mdef\u001b[0m \u001b[0minner\u001b[0m\u001b[0;34m(\u001b[0m\u001b[0max\u001b[0m\u001b[0;34m,\u001b[0m \u001b[0;34m*\u001b[0m\u001b[0margs\u001b[0m\u001b[0;34m,\u001b[0m \u001b[0mdata\u001b[0m\u001b[0;34m=\u001b[0m\u001b[0;32mNone\u001b[0m\u001b[0;34m,\u001b[0m \u001b[0;34m**\u001b[0m\u001b[0mkwargs\u001b[0m\u001b[0;34m)\u001b[0m\u001b[0;34m:\u001b[0m\u001b[0;34m\u001b[0m\u001b[0;34m\u001b[0m\u001b[0m\n\u001b[1;32m   1564\u001b[0m         \u001b[0;32mif\u001b[0m \u001b[0mdata\u001b[0m \u001b[0;32mis\u001b[0m \u001b[0;32mNone\u001b[0m\u001b[0;34m:\u001b[0m\u001b[0;34m\u001b[0m\u001b[0;34m\u001b[0m\u001b[0m\n\u001b[0;32m-> 1565\u001b[0;31m             \u001b[0;32mreturn\u001b[0m \u001b[0mfunc\u001b[0m\u001b[0;34m(\u001b[0m\u001b[0max\u001b[0m\u001b[0;34m,\u001b[0m \u001b[0;34m*\u001b[0m\u001b[0mmap\u001b[0m\u001b[0;34m(\u001b[0m\u001b[0msanitize_sequence\u001b[0m\u001b[0;34m,\u001b[0m \u001b[0margs\u001b[0m\u001b[0;34m)\u001b[0m\u001b[0;34m,\u001b[0m \u001b[0;34m**\u001b[0m\u001b[0mkwargs\u001b[0m\u001b[0;34m)\u001b[0m\u001b[0;34m\u001b[0m\u001b[0;34m\u001b[0m\u001b[0m\n\u001b[0m\u001b[1;32m   1566\u001b[0m \u001b[0;34m\u001b[0m\u001b[0m\n\u001b[1;32m   1567\u001b[0m         \u001b[0mbound\u001b[0m \u001b[0;34m=\u001b[0m \u001b[0mnew_sig\u001b[0m\u001b[0;34m.\u001b[0m\u001b[0mbind\u001b[0m\u001b[0;34m(\u001b[0m\u001b[0max\u001b[0m\u001b[0;34m,\u001b[0m \u001b[0;34m*\u001b[0m\u001b[0margs\u001b[0m\u001b[0;34m,\u001b[0m \u001b[0;34m**\u001b[0m\u001b[0mkwargs\u001b[0m\u001b[0;34m)\u001b[0m\u001b[0;34m\u001b[0m\u001b[0;34m\u001b[0m\u001b[0m\n",
            "\u001b[0;32m/usr/local/lib/python3.6/dist-packages/matplotlib/axes/_axes.py\u001b[0m in \u001b[0;36mbar\u001b[0;34m(self, x, height, width, bottom, align, **kwargs)\u001b[0m\n\u001b[1;32m   2340\u001b[0m         x, height, width, y, linewidth = np.broadcast_arrays(\n\u001b[1;32m   2341\u001b[0m             \u001b[0;31m# Make args iterable too.\u001b[0m\u001b[0;34m\u001b[0m\u001b[0;34m\u001b[0m\u001b[0;34m\u001b[0m\u001b[0m\n\u001b[0;32m-> 2342\u001b[0;31m             np.atleast_1d(x), height, width, y, linewidth)\n\u001b[0m\u001b[1;32m   2343\u001b[0m \u001b[0;34m\u001b[0m\u001b[0m\n\u001b[1;32m   2344\u001b[0m         \u001b[0;31m# Now that units have been converted, set the tick locations.\u001b[0m\u001b[0;34m\u001b[0m\u001b[0;34m\u001b[0m\u001b[0;34m\u001b[0m\u001b[0m\n",
            "\u001b[0;32m<__array_function__ internals>\u001b[0m in \u001b[0;36mbroadcast_arrays\u001b[0;34m(*args, **kwargs)\u001b[0m\n",
            "\u001b[0;32m/usr/local/lib/python3.6/dist-packages/numpy/lib/stride_tricks.py\u001b[0m in \u001b[0;36mbroadcast_arrays\u001b[0;34m(*args, **kwargs)\u001b[0m\n\u001b[1;32m    262\u001b[0m     \u001b[0margs\u001b[0m \u001b[0;34m=\u001b[0m \u001b[0;34m[\u001b[0m\u001b[0mnp\u001b[0m\u001b[0;34m.\u001b[0m\u001b[0marray\u001b[0m\u001b[0;34m(\u001b[0m\u001b[0m_m\u001b[0m\u001b[0;34m,\u001b[0m \u001b[0mcopy\u001b[0m\u001b[0;34m=\u001b[0m\u001b[0;32mFalse\u001b[0m\u001b[0;34m,\u001b[0m \u001b[0msubok\u001b[0m\u001b[0;34m=\u001b[0m\u001b[0msubok\u001b[0m\u001b[0;34m)\u001b[0m \u001b[0;32mfor\u001b[0m \u001b[0m_m\u001b[0m \u001b[0;32min\u001b[0m \u001b[0margs\u001b[0m\u001b[0;34m]\u001b[0m\u001b[0;34m\u001b[0m\u001b[0;34m\u001b[0m\u001b[0m\n\u001b[1;32m    263\u001b[0m \u001b[0;34m\u001b[0m\u001b[0m\n\u001b[0;32m--> 264\u001b[0;31m     \u001b[0mshape\u001b[0m \u001b[0;34m=\u001b[0m \u001b[0m_broadcast_shape\u001b[0m\u001b[0;34m(\u001b[0m\u001b[0;34m*\u001b[0m\u001b[0margs\u001b[0m\u001b[0;34m)\u001b[0m\u001b[0;34m\u001b[0m\u001b[0;34m\u001b[0m\u001b[0m\n\u001b[0m\u001b[1;32m    265\u001b[0m \u001b[0;34m\u001b[0m\u001b[0m\n\u001b[1;32m    266\u001b[0m     \u001b[0;32mif\u001b[0m \u001b[0mall\u001b[0m\u001b[0;34m(\u001b[0m\u001b[0marray\u001b[0m\u001b[0;34m.\u001b[0m\u001b[0mshape\u001b[0m \u001b[0;34m==\u001b[0m \u001b[0mshape\u001b[0m \u001b[0;32mfor\u001b[0m \u001b[0marray\u001b[0m \u001b[0;32min\u001b[0m \u001b[0margs\u001b[0m\u001b[0;34m)\u001b[0m\u001b[0;34m:\u001b[0m\u001b[0;34m\u001b[0m\u001b[0;34m\u001b[0m\u001b[0m\n",
            "\u001b[0;32m/usr/local/lib/python3.6/dist-packages/numpy/lib/stride_tricks.py\u001b[0m in \u001b[0;36m_broadcast_shape\u001b[0;34m(*args)\u001b[0m\n\u001b[1;32m    189\u001b[0m     \u001b[0;31m# use the old-iterator because np.nditer does not handle size 0 arrays\u001b[0m\u001b[0;34m\u001b[0m\u001b[0;34m\u001b[0m\u001b[0;34m\u001b[0m\u001b[0m\n\u001b[1;32m    190\u001b[0m     \u001b[0;31m# consistently\u001b[0m\u001b[0;34m\u001b[0m\u001b[0;34m\u001b[0m\u001b[0;34m\u001b[0m\u001b[0m\n\u001b[0;32m--> 191\u001b[0;31m     \u001b[0mb\u001b[0m \u001b[0;34m=\u001b[0m \u001b[0mnp\u001b[0m\u001b[0;34m.\u001b[0m\u001b[0mbroadcast\u001b[0m\u001b[0;34m(\u001b[0m\u001b[0;34m*\u001b[0m\u001b[0margs\u001b[0m\u001b[0;34m[\u001b[0m\u001b[0;34m:\u001b[0m\u001b[0;36m32\u001b[0m\u001b[0;34m]\u001b[0m\u001b[0;34m)\u001b[0m\u001b[0;34m\u001b[0m\u001b[0;34m\u001b[0m\u001b[0m\n\u001b[0m\u001b[1;32m    192\u001b[0m     \u001b[0;31m# unfortunately, it cannot handle 32 or more arguments directly\u001b[0m\u001b[0;34m\u001b[0m\u001b[0;34m\u001b[0m\u001b[0;34m\u001b[0m\u001b[0m\n\u001b[1;32m    193\u001b[0m     \u001b[0;32mfor\u001b[0m \u001b[0mpos\u001b[0m \u001b[0;32min\u001b[0m \u001b[0mrange\u001b[0m\u001b[0;34m(\u001b[0m\u001b[0;36m32\u001b[0m\u001b[0;34m,\u001b[0m \u001b[0mlen\u001b[0m\u001b[0;34m(\u001b[0m\u001b[0margs\u001b[0m\u001b[0;34m)\u001b[0m\u001b[0;34m,\u001b[0m \u001b[0;36m31\u001b[0m\u001b[0;34m)\u001b[0m\u001b[0;34m:\u001b[0m\u001b[0;34m\u001b[0m\u001b[0;34m\u001b[0m\u001b[0m\n",
            "\u001b[0;31mValueError\u001b[0m: shape mismatch: objects cannot be broadcast to a single shape"
          ]
        },
        {
          "output_type": "display_data",
          "data": {
            "image/png": "[encoded data removed]",
            "text/plain": [
              "<Figure size 432x288 with 1 Axes>"
            ]
          },
          "metadata": {
            "tags": [],
            "needs_background": "light"
          }
        }
      ]
    },
    {
      "cell_type": "code",
      "metadata": {
        "id": "Rs8XbEG9q--7"
      },
      "source": [
        "paramGrid = ParamGridBuilder() \\\n",
        "    .addGrid(lr.elasticNetParam, [0., 0.01, 0.1]) \\\n",
        "    .addGrid(lr.regParam, [0.1, 0.01, 0.001]) \\\n",
        "    .build()"
      ],
      "execution_count": null,
      "outputs": []
    },
    {
      "cell_type": "code",
      "metadata": {
        "id": "OBR99UNxrFrh"
      },
      "source": [
        "crossval = CrossValidator(estimator=final_model_pipeline, \n",
        "                          estimatorParamMaps=paramGrid, \n",
        "                          evaluator=evaluator, \n",
        "                          numFolds=2)"
      ],
      "execution_count": null,
      "outputs": []
    },
    {
      "cell_type": "code",
      "metadata": {
        "id": "Ewvt5LJdrIJz"
      },
      "source": [
        "final_model_fitted = crossval.fit(train_df)"
      ],
      "execution_count": null,
      "outputs": []
    },
    {
      "cell_type": "code",
      "metadata": {
        "id": "tEtRYOsCrInC",
        "outputId": "bcbfd730-9715-4171-948e-7da3a4792020",
        "colab": {
          "base_uri": "https://localhost:8080/"
        }
      },
      "source": [
        "evaluator.evaluate(final_model_fitted.transform(validation_df))"
      ],
      "execution_count": null,
      "outputs": [
        {
          "output_type": "execute_result",
          "data": {
            "text/plain": [
              "0.33835627138054775"
            ]
          },
          "metadata": {
            "tags": []
          },
          "execution_count": 345
        }
      ]
    },
    {
      "cell_type": "code",
      "metadata": {
        "id": "7fbCz3Y1rPRy",
        "outputId": "d5499010-d7f1-4d8a-81ff-f2d6f3fb1a57",
        "colab": {
          "base_uri": "https://localhost:8080/"
        }
      },
      "source": [
        "predictions = final_model_fitted.transform(validation_df)\n",
        "accuracy = predictions.filter(predictions.Response == predictions.prediction).count() / float(predictions.count())\n",
        "print(\"Accuracy : \",accuracy)"
      ],
      "execution_count": null,
      "outputs": [
        {
          "output_type": "stream",
          "text": [
            "Accuracy :  0.8752049127006843\n"
          ],
          "name": "stdout"
        }
      ]
    }
  ]
}